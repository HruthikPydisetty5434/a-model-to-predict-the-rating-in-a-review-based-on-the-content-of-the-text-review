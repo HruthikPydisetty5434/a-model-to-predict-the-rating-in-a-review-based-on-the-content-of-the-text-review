{
 "cells": [
  {
   "cell_type": "markdown",
   "id": "87b5ea77",
   "metadata": {},
   "source": [
    "# Natural Language Processing (NLP)\n",
    "## Mini Project"
   ]
  },
  {
   "cell_type": "markdown",
   "id": "eb1415e8",
   "metadata": {},
   "source": [
    "# Help Zomato Predict Rating from the Review "
   ]
  },
  {
   "cell_type": "code",
   "execution_count": 1,
   "id": "a4c01e6a",
   "metadata": {},
   "outputs": [],
   "source": [
    "import pandas as pd\n",
    "import numpy as np\n",
    "import matplotlib.pyplot as plt "
   ]
  },
  {
   "cell_type": "code",
   "execution_count": 2,
   "id": "cde56902",
   "metadata": {},
   "outputs": [
    {
     "data": {
      "text/html": [
       "<div>\n",
       "<style scoped>\n",
       "    .dataframe tbody tr th:only-of-type {\n",
       "        vertical-align: middle;\n",
       "    }\n",
       "\n",
       "    .dataframe tbody tr th {\n",
       "        vertical-align: top;\n",
       "    }\n",
       "\n",
       "    .dataframe thead th {\n",
       "        text-align: right;\n",
       "    }\n",
       "</style>\n",
       "<table border=\"1\" class=\"dataframe\">\n",
       "  <thead>\n",
       "    <tr style=\"text-align: right;\">\n",
       "      <th></th>\n",
       "      <th>rating</th>\n",
       "      <th>review_text</th>\n",
       "    </tr>\n",
       "  </thead>\n",
       "  <tbody>\n",
       "    <tr>\n",
       "      <th>0</th>\n",
       "      <td>1.0</td>\n",
       "      <td>Their service is worst, pricing in menu is dif...</td>\n",
       "    </tr>\n",
       "    <tr>\n",
       "      <th>1</th>\n",
       "      <td>5.0</td>\n",
       "      <td>really appreciate their quality and timing . I...</td>\n",
       "    </tr>\n",
       "    <tr>\n",
       "      <th>2</th>\n",
       "      <td>4.0</td>\n",
       "      <td>Went there on a Friday night, the place was su...</td>\n",
       "    </tr>\n",
       "    <tr>\n",
       "      <th>3</th>\n",
       "      <td>4.0</td>\n",
       "      <td>A very decent place serving good food.\\r\\nOrde...</td>\n",
       "    </tr>\n",
       "    <tr>\n",
       "      <th>4</th>\n",
       "      <td>5.0</td>\n",
       "      <td>One of the BEST places for steaks in the city....</td>\n",
       "    </tr>\n",
       "  </tbody>\n",
       "</table>\n",
       "</div>"
      ],
      "text/plain": [
       "   rating                                        review_text\n",
       "0     1.0  Their service is worst, pricing in menu is dif...\n",
       "1     5.0  really appreciate their quality and timing . I...\n",
       "2     4.0  Went there on a Friday night, the place was su...\n",
       "3     4.0  A very decent place serving good food.\\r\\nOrde...\n",
       "4     5.0  One of the BEST places for steaks in the city...."
      ]
     },
     "execution_count": 2,
     "metadata": {},
     "output_type": "execute_result"
    }
   ],
   "source": [
    "zomato = pd.read_csv(\"Zomato_reviews.csv\")\n",
    "zomato.head()"
   ]
  },
  {
   "cell_type": "code",
   "execution_count": 3,
   "id": "3d39615b",
   "metadata": {},
   "outputs": [
    {
     "data": {
      "text/plain": [
       "(27762, 2)"
      ]
     },
     "execution_count": 3,
     "metadata": {},
     "output_type": "execute_result"
    }
   ],
   "source": [
    "zomato.shape"
   ]
  },
  {
   "cell_type": "code",
   "execution_count": 4,
   "id": "c53eeede",
   "metadata": {},
   "outputs": [
    {
     "data": {
      "text/plain": [
       "(27748, 2)"
      ]
     },
     "execution_count": 4,
     "metadata": {},
     "output_type": "execute_result"
    }
   ],
   "source": [
    "zomato1 = zomato[~zomato.review_text.isnull()].copy()\n",
    "zomato1.reset_index(inplace=True, drop=True)\n",
    "zomato1.shape"
   ]
  },
  {
   "cell_type": "code",
   "execution_count": 5,
   "id": "2c1fd6b7",
   "metadata": {},
   "outputs": [
    {
     "data": {
      "text/plain": [
       "27748"
      ]
     },
     "execution_count": 5,
     "metadata": {},
     "output_type": "execute_result"
    }
   ],
   "source": [
    "zomato_reviews = zomato1.review_text.values\n",
    "len(zomato_reviews)"
   ]
  },
  {
   "cell_type": "code",
   "execution_count": 6,
   "id": "d4796279",
   "metadata": {},
   "outputs": [
    {
     "data": {
      "text/plain": [
       "['went there on a friday night, the place was surprisingly empty. interesting menu which is almost fully made of dosas. i had bullseye dosa and cheese masala dosa. the bullseye dosa was really good, with the egg perfectly cooked to a half boiled state. the masala in the cheese masala was good, but the cheese was a bit too chewy for my liking. the chutney was good, the sambar was average. the dishes are reasonably priced.',\n",
       " 'a very decent place serving good food.\\r\\nordered chilli fish, chicken & pork sizzler.\\r\\neverything tasted good but pork could have been slightly better cooked.\\r\\ntried 2 beverages, both were very sweet.']"
      ]
     },
     "execution_count": 6,
     "metadata": {},
     "output_type": "execute_result"
    }
   ],
   "source": [
    "#Normalizing case\n",
    "\n",
    "reviews_lower = [txt.lower() for txt in zomato_reviews]\n",
    "reviews_lower[2:4]"
   ]
  },
  {
   "cell_type": "code",
   "execution_count": 7,
   "id": "38dca599",
   "metadata": {},
   "outputs": [
    {
     "data": {
      "text/plain": [
       "['went there on a friday night, the place was surprisingly empty. interesting menu which is almost fully made of dosas. i had bullseye dosa and cheese masala dosa. the bullseye dosa was really good, with the egg perfectly cooked to a half boiled state. the masala in the cheese masala was good, but the cheese was a bit too chewy for my liking. the chutney was good, the sambar was average. the dishes are reasonably priced.',\n",
       " 'a very decent place serving good food. ordered chilli fish, chicken & pork sizzler. everything tasted good but pork could have been slightly better cooked. tried 2 beverages, both were very sweet.']"
      ]
     },
     "execution_count": 7,
     "metadata": {},
     "output_type": "execute_result"
    }
   ],
   "source": [
    "reviews_lower = [\" \".join(txt.split()) for txt in reviews_lower]\n",
    "reviews_lower[2:4]"
   ]
  },
  {
   "cell_type": "code",
   "execution_count": 8,
   "id": "a0cdf298",
   "metadata": {},
   "outputs": [
    {
     "name": "stderr",
     "output_type": "stream",
     "text": [
      "[nltk_data] Downloading package punkt to\n",
      "[nltk_data]     C:\\Users\\hruth\\AppData\\Roaming\\nltk_data...\n",
      "[nltk_data]   Package punkt is already up-to-date!\n"
     ]
    },
    {
     "data": {
      "text/plain": [
       "True"
      ]
     },
     "execution_count": 8,
     "metadata": {},
     "output_type": "execute_result"
    }
   ],
   "source": [
    "#Tokenize\n",
    "from nltk.tokenize import word_tokenize\n",
    "import nltk\n",
    "nltk.download('punkt')"
   ]
  },
  {
   "cell_type": "code",
   "execution_count": 9,
   "id": "93d63293",
   "metadata": {},
   "outputs": [
    {
     "name": "stdout",
     "output_type": "stream",
     "text": [
      "['their', 'service', 'is', 'worst', ',', 'pricing', 'in', 'menu', 'is', 'different', 'from', 'bill', '.', 'they', 'can', 'give', 'you', 'a', 'bill', 'with', 'increased', 'pricing', '.', 'even', 'for', 'serving', 'water', ',', 'menu', ',', 'order', 'you', 'need', 'to', 'call', 'them', '3-4', 'times', 'even', 'on', 'a', 'non', 'busy', 'day', '.']\n"
     ]
    }
   ],
   "source": [
    "print(word_tokenize(reviews_lower[0]))"
   ]
  },
  {
   "cell_type": "code",
   "execution_count": 10,
   "id": "3cd625d6",
   "metadata": {},
   "outputs": [
    {
     "name": "stdout",
     "output_type": "stream",
     "text": [
      "['their', 'service', 'is', 'worst', ',', 'pricing', 'in', 'menu', 'is', 'different', 'from', 'bill', '.', 'they', 'can', 'give', 'you', 'a', 'bill', 'with', 'increased', 'pricing', '.', 'even', 'for', 'serving', 'water', ',', 'menu', ',', 'order', 'you', 'need', 'to', 'call', 'them', '3-4', 'times', 'even', 'on', 'a', 'non', 'busy', 'day', '.']\n"
     ]
    }
   ],
   "source": [
    "reviews_tokens = [word_tokenize(sent) for sent in reviews_lower]\n",
    "print(reviews_tokens[0])"
   ]
  },
  {
   "cell_type": "code",
   "execution_count": 11,
   "id": "e6019659",
   "metadata": {},
   "outputs": [],
   "source": [
    "#Remove stop words and punctuations\n",
    "\n",
    "from nltk.corpus import stopwords\n",
    "from string import punctuation"
   ]
  },
  {
   "cell_type": "code",
   "execution_count": 12,
   "id": "7d05926d",
   "metadata": {},
   "outputs": [
    {
     "name": "stderr",
     "output_type": "stream",
     "text": [
      "[nltk_data] Downloading package stopwords to\n",
      "[nltk_data]     C:\\Users\\hruth\\AppData\\Roaming\\nltk_data...\n",
      "[nltk_data]   Package stopwords is already up-to-date!\n"
     ]
    },
    {
     "data": {
      "text/plain": [
       "True"
      ]
     },
     "execution_count": 12,
     "metadata": {},
     "output_type": "execute_result"
    }
   ],
   "source": [
    "import nltk\n",
    "nltk.download('stopwords')"
   ]
  },
  {
   "cell_type": "code",
   "execution_count": 13,
   "id": "19d7cd3c",
   "metadata": {},
   "outputs": [
    {
     "name": "stdout",
     "output_type": "stream",
     "text": [
      "['i', 'me', 'my', 'myself', 'we', 'our', 'ours', 'ourselves', 'you', \"you're\", \"you've\", \"you'll\", \"you'd\", 'your', 'yours', 'yourself', 'yourselves', 'he', 'him', 'his', 'himself', 'she', \"she's\", 'her', 'hers', 'herself', 'it', \"it's\", 'its', 'itself', 'they', 'them', 'their', 'theirs', 'themselves', 'what', 'which', 'who', 'whom', 'this', 'that', \"that'll\", 'these', 'those', 'am', 'is', 'are', 'was', 'were', 'be', 'been', 'being', 'have', 'has', 'had', 'having', 'do', 'does', 'did', 'doing', 'a', 'an', 'the', 'and', 'but', 'if', 'or', 'because', 'as', 'until', 'while', 'of', 'at', 'by', 'for', 'with', 'about', 'against', 'between', 'into', 'through', 'during', 'before', 'after', 'above', 'below', 'to', 'from', 'up', 'down', 'in', 'out', 'on', 'off', 'over', 'under', 'again', 'further', 'then', 'once', 'here', 'there', 'when', 'where', 'why', 'how', 'all', 'any', 'both', 'each', 'few', 'more', 'most', 'other', 'some', 'such', 'no', 'nor', 'not', 'only', 'own', 'same', 'so', 'than', 'too', 'very', 's', 't', 'can', 'will', 'just', 'don', \"don't\", 'should', \"should've\", 'now', 'd', 'll', 'm', 'o', 're', 've', 'y', 'ain', 'aren', \"aren't\", 'couldn', \"couldn't\", 'didn', \"didn't\", 'doesn', \"doesn't\", 'hadn', \"hadn't\", 'hasn', \"hasn't\", 'haven', \"haven't\", 'isn', \"isn't\", 'ma', 'mightn', \"mightn't\", 'mustn', \"mustn't\", 'needn', \"needn't\", 'shan', \"shan't\", 'shouldn', \"shouldn't\", 'wasn', \"wasn't\", 'weren', \"weren't\", 'won', \"won't\", 'wouldn', \"wouldn't\"]\n"
     ]
    }
   ],
   "source": [
    "stop_nltk = stopwords.words(\"english\")\n",
    "stop_punct = list(punctuation)\n",
    "print(stop_nltk)"
   ]
  },
  {
   "cell_type": "code",
   "execution_count": 14,
   "id": "e51f75b6",
   "metadata": {},
   "outputs": [],
   "source": [
    "stop_nltk.remove(\"no\")\n",
    "stop_nltk.remove(\"not\")\n",
    "stop_nltk.remove(\"don\")\n",
    "stop_nltk.remove(\"won\")"
   ]
  },
  {
   "cell_type": "code",
   "execution_count": 15,
   "id": "4496049f",
   "metadata": {},
   "outputs": [
    {
     "data": {
      "text/plain": [
       "False"
      ]
     },
     "execution_count": 15,
     "metadata": {},
     "output_type": "execute_result"
    }
   ],
   "source": [
    "\"no\" in stop_nltk"
   ]
  },
  {
   "cell_type": "code",
   "execution_count": 16,
   "id": "a70452f9",
   "metadata": {},
   "outputs": [],
   "source": [
    "stop_final = stop_nltk + stop_punct + [\"...\", \"``\",\"''\", \"====\", \"must\"]"
   ]
  },
  {
   "cell_type": "code",
   "execution_count": 17,
   "id": "147fc0dd",
   "metadata": {},
   "outputs": [],
   "source": [
    "def del_stop(sent):\n",
    "    return [term for term in sent if term not in stop_final]"
   ]
  },
  {
   "cell_type": "code",
   "execution_count": 18,
   "id": "54c09a66",
   "metadata": {},
   "outputs": [
    {
     "data": {
      "text/plain": [
       "['really',\n",
       " 'appreciate',\n",
       " 'quality',\n",
       " 'timing',\n",
       " 'tried',\n",
       " 'thattil',\n",
       " 'kutti',\n",
       " 'dosa',\n",
       " \"'ve\",\n",
       " 'addicted',\n",
       " 'dosa',\n",
       " 'really',\n",
       " 'chutney',\n",
       " 'really',\n",
       " 'good',\n",
       " 'money',\n",
       " 'worth',\n",
       " 'much',\n",
       " 'better',\n",
       " 'thattukada',\n",
       " 'try']"
      ]
     },
     "execution_count": 18,
     "metadata": {},
     "output_type": "execute_result"
    }
   ],
   "source": [
    "del_stop(reviews_tokens[1])"
   ]
  },
  {
   "cell_type": "code",
   "execution_count": 19,
   "id": "d2f8c4c4",
   "metadata": {},
   "outputs": [],
   "source": [
    "#!pip install wordcloud"
   ]
  },
  {
   "cell_type": "code",
   "execution_count": 20,
   "id": "0008e851",
   "metadata": {},
   "outputs": [
    {
     "data": {
      "text/plain": [
       "<wordcloud.wordcloud.WordCloud at 0x1eb99a2ca90>"
      ]
     },
     "execution_count": 20,
     "metadata": {},
     "output_type": "execute_result"
    }
   ],
   "source": [
    "from wordcloud import WordCloud\n",
    "long_string = ','.join(reviews_tokens[1])\n",
    "wordcloud = WordCloud(background_color=\"white\", max_words=5000, contour_width=3, contour_color='steelblue')\n",
    "wordcloud.generate(long_string)"
   ]
  },
  {
   "cell_type": "code",
   "execution_count": 21,
   "id": "7e95612a",
   "metadata": {},
   "outputs": [
    {
     "data": {
      "image/png": "[encoded data removed]",
      "text/plain": [
       "<PIL.Image.Image image mode=RGB size=400x200 at 0x1EB99A3EEB0>"
      ]
     },
     "execution_count": 21,
     "metadata": {},
     "output_type": "execute_result"
    }
   ],
   "source": [
    "# Visualize the word cloud\n",
    "wordcloud.to_image()"
   ]
  },
  {
   "cell_type": "code",
   "execution_count": 22,
   "id": "2e848d59",
   "metadata": {},
   "outputs": [
    {
     "data": {
      "text/plain": [
       "['service worst pricing menu different bill give bill increased pricing even serving water menu order need call 3-4 times even non busy day',\n",
       " \"really appreciate quality timing tried thattil kutti dosa 've addicted dosa really chutney really good money worth much better thattukada try\"]"
      ]
     },
     "execution_count": 22,
     "metadata": {},
     "output_type": "execute_result"
    }
   ],
   "source": [
    "reviews_clean = [del_stop(sent) for sent in reviews_tokens]\n",
    "reviews_clean = [\" \".join(sent) for sent in reviews_clean]\n",
    "reviews_clean[:2]"
   ]
  },
  {
   "cell_type": "code",
   "execution_count": 23,
   "id": "3168a2d7",
   "metadata": {},
   "outputs": [
    {
     "data": {
      "text/plain": [
       "27748"
      ]
     },
     "execution_count": 23,
     "metadata": {},
     "output_type": "execute_result"
    }
   ],
   "source": [
    "len(reviews_clean)"
   ]
  },
  {
   "cell_type": "code",
   "execution_count": 24,
   "id": "85e42391",
   "metadata": {},
   "outputs": [],
   "source": [
    "X = reviews_clean\n",
    "y = zomato1.rating"
   ]
  },
  {
   "cell_type": "code",
   "execution_count": 25,
   "id": "0f8c5878",
   "metadata": {},
   "outputs": [],
   "source": [
    "#Train test split\n",
    "\n",
    "from sklearn.model_selection import train_test_split\n",
    "X_train, X_test, y_train, y_test = train_test_split(X, y, test_size = 0.30, random_state=42)"
   ]
  },
  {
   "cell_type": "code",
   "execution_count": 26,
   "id": "cb19b0f0",
   "metadata": {},
   "outputs": [
    {
     "data": {
      "text/plain": [
       "(19423, 8325)"
      ]
     },
     "execution_count": 26,
     "metadata": {},
     "output_type": "execute_result"
    }
   ],
   "source": [
    "from sklearn.feature_extraction.text import TfidfVectorizer\n",
    "vectorizer = TfidfVectorizer(max_features = 5000)\n",
    "len(X_train), len(X_test)"
   ]
  },
  {
   "cell_type": "code",
   "execution_count": 27,
   "id": "f02aca85",
   "metadata": {},
   "outputs": [
    {
     "data": {
      "text/plain": [
       "((19423, 5000), (8325, 5000))"
      ]
     },
     "execution_count": 27,
     "metadata": {},
     "output_type": "execute_result"
    }
   ],
   "source": [
    "X_train_bow = vectorizer.fit_transform(X_train)\n",
    "X_test_bow = vectorizer.transform(X_test)\n",
    "X_train_bow.shape, X_test_bow.shape"
   ]
  },
  {
   "cell_type": "markdown",
   "id": "c210c33c",
   "metadata": {},
   "source": [
    "## Model building"
   ]
  },
  {
   "cell_type": "code",
   "execution_count": 28,
   "id": "d80d9979",
   "metadata": {},
   "outputs": [
    {
     "data": {
      "text/plain": [
       "RandomForestRegressor()"
      ]
     },
     "execution_count": 28,
     "metadata": {},
     "output_type": "execute_result"
    }
   ],
   "source": [
    "from sklearn.ensemble import RandomForestRegressor, GradientBoostingRegressor\n",
    "RandomForestRegressor()"
   ]
  },
  {
   "cell_type": "code",
   "execution_count": 29,
   "id": "810b00f3",
   "metadata": {},
   "outputs": [
    {
     "data": {
      "text/plain": [
       "RandomForestRegressor(random_state=42)"
      ]
     },
     "execution_count": 29,
     "metadata": {},
     "output_type": "execute_result"
    }
   ],
   "source": [
    "learner_rf = RandomForestRegressor(random_state=42)\n",
    "learner_rf.fit(X_train_bow, y_train)"
   ]
  },
  {
   "cell_type": "code",
   "execution_count": 30,
   "id": "f5dc1e07",
   "metadata": {},
   "outputs": [],
   "source": [
    "y_train_preds = learner_rf.predict(X_train_bow)"
   ]
  },
  {
   "cell_type": "code",
   "execution_count": 31,
   "id": "6037c6d5",
   "metadata": {},
   "outputs": [
    {
     "data": {
      "text/plain": [
       "0.23720347586757728"
      ]
     },
     "execution_count": 31,
     "metadata": {},
     "output_type": "execute_result"
    }
   ],
   "source": [
    "from sklearn.metrics import mean_squared_error\n",
    "mean_squared_error(y_train, y_train_preds)**0.5"
   ]
  },
  {
   "cell_type": "code",
   "execution_count": 32,
   "id": "ebf3b7d7",
   "metadata": {},
   "outputs": [
    {
     "data": {
      "text/plain": [
       "RandomForestRegressor(n_estimators=20, random_state=42)"
      ]
     },
     "execution_count": 32,
     "metadata": {},
     "output_type": "execute_result"
    }
   ],
   "source": [
    "learner_rf = RandomForestRegressor(random_state=42, n_estimators=20)\n",
    "learner_rf.fit(X_train_bow, y_train)"
   ]
  },
  {
   "cell_type": "code",
   "execution_count": 33,
   "id": "73abcbb0",
   "metadata": {},
   "outputs": [
    {
     "data": {
      "text/plain": [
       "0.2507584827360229"
      ]
     },
     "execution_count": 33,
     "metadata": {},
     "output_type": "execute_result"
    }
   ],
   "source": [
    "y_train_preds = learner_rf.predict(X_train_bow)\n",
    "mean_squared_error(y_train, y_train_preds)**0.5"
   ]
  },
  {
   "cell_type": "markdown",
   "id": "1c26b776",
   "metadata": {},
   "source": [
    "## Hyper-parameter tuning"
   ]
  },
  {
   "cell_type": "code",
   "execution_count": 34,
   "id": "2e54ad35",
   "metadata": {},
   "outputs": [
    {
     "data": {
      "text/plain": [
       "RandomForestRegressor()"
      ]
     },
     "execution_count": 34,
     "metadata": {},
     "output_type": "execute_result"
    }
   ],
   "source": [
    "from sklearn.model_selection import GridSearchCV\n",
    "RandomForestRegressor()"
   ]
  },
  {
   "cell_type": "code",
   "execution_count": 35,
   "id": "eb844bea",
   "metadata": {},
   "outputs": [],
   "source": [
    "learner_rf = RandomForestRegressor(random_state=42)"
   ]
  },
  {
   "cell_type": "code",
   "execution_count": 36,
   "id": "617ef56e",
   "metadata": {},
   "outputs": [],
   "source": [
    "# Create the parameter grid based on the results of random search \n",
    "param_grid = {\n",
    "    'max_features': [500, \"sqrt\", \"log2\", \"auto\"],\n",
    "    'max_depth': [10, 15, 20, 25]}"
   ]
  },
  {
   "cell_type": "code",
   "execution_count": 37,
   "id": "270d81ba",
   "metadata": {},
   "outputs": [],
   "source": [
    "# Instantiate the grid search model\n",
    "grid_search = GridSearchCV(estimator = learner_rf, param_grid = param_grid, \n",
    "                          cv = 5, n_jobs = -1, verbose = 1, scoring = \"neg_mean_squared_error\" )\n"
   ]
  },
  {
   "cell_type": "code",
   "execution_count": 38,
   "id": "fe8328e9",
   "metadata": {},
   "outputs": [
    {
     "name": "stdout",
     "output_type": "stream",
     "text": [
      "Fitting 5 folds for each of 16 candidates, totalling 80 fits\n"
     ]
    },
    {
     "data": {
      "text/plain": [
       "GridSearchCV(cv=5, estimator=RandomForestRegressor(random_state=42), n_jobs=-1,\n",
       "             param_grid={'max_depth': [10, 15, 20, 25],\n",
       "                         'max_features': [500, 'sqrt', 'log2', 'auto']},\n",
       "             scoring='neg_mean_squared_error', verbose=1)"
      ]
     },
     "execution_count": 38,
     "metadata": {},
     "output_type": "execute_result"
    }
   ],
   "source": [
    "grid_search.fit(X_train_bow, y_train)"
   ]
  },
  {
   "cell_type": "code",
   "execution_count": 39,
   "id": "36489e3e",
   "metadata": {},
   "outputs": [
    {
     "data": {
      "text/plain": [
       "RandomForestRegressor(max_depth=25, max_features=500, random_state=42)"
      ]
     },
     "execution_count": 39,
     "metadata": {},
     "output_type": "execute_result"
    }
   ],
   "source": [
    "grid_search.best_estimator_"
   ]
  },
  {
   "cell_type": "markdown",
   "id": "13b821eb",
   "metadata": {},
   "source": [
    "## Using the best estimator to make predictions on the test set"
   ]
  },
  {
   "cell_type": "code",
   "execution_count": 40,
   "id": "c8195ae1",
   "metadata": {},
   "outputs": [
    {
     "data": {
      "text/plain": [
       "0.5876681060137491"
      ]
     },
     "execution_count": 40,
     "metadata": {},
     "output_type": "execute_result"
    }
   ],
   "source": [
    "y_train_pred = grid_search.best_estimator_.predict(X_train_bow)\n",
    "y_test_pred = grid_search.best_estimator_.predict(X_test_bow)\n",
    "mean_squared_error(y_train, y_train_pred)**0.5"
   ]
  },
  {
   "cell_type": "code",
   "execution_count": 41,
   "id": "42461eb8",
   "metadata": {},
   "outputs": [
    {
     "data": {
      "text/plain": [
       "0.6715338514796404"
      ]
     },
     "execution_count": 41,
     "metadata": {},
     "output_type": "execute_result"
    }
   ],
   "source": [
    "mean_squared_error(y_test, y_test_pred)**0.5"
   ]
  },
  {
   "cell_type": "code",
   "execution_count": 42,
   "id": "19acb9e2",
   "metadata": {},
   "outputs": [],
   "source": [
    "## Identifying mismatch cases"
   ]
  },
  {
   "cell_type": "code",
   "execution_count": 43,
   "id": "48b3a9a6",
   "metadata": {},
   "outputs": [
    {
     "data": {
      "text/plain": [
       "(8, 3)"
      ]
     },
     "execution_count": 43,
     "metadata": {},
     "output_type": "execute_result"
    }
   ],
   "source": [
    "res_df = pd.DataFrame({'review':X_test, 'rating':y_test, 'rating_pred':y_test_pred})\n",
    "res_df[(res_df.rating - res_df.rating_pred)>=2].shape"
   ]
  },
  {
   "cell_type": "code",
   "execution_count": 44,
   "id": "4aedeed0",
   "metadata": {},
   "outputs": [
    {
     "data": {
      "text/html": [
       "<div>\n",
       "<style scoped>\n",
       "    .dataframe tbody tr th:only-of-type {\n",
       "        vertical-align: middle;\n",
       "    }\n",
       "\n",
       "    .dataframe tbody tr th {\n",
       "        vertical-align: top;\n",
       "    }\n",
       "\n",
       "    .dataframe thead th {\n",
       "        text-align: right;\n",
       "    }\n",
       "</style>\n",
       "<table border=\"1\" class=\"dataframe\">\n",
       "  <thead>\n",
       "    <tr style=\"text-align: right;\">\n",
       "      <th></th>\n",
       "      <th>review</th>\n",
       "      <th>rating</th>\n",
       "      <th>rating_pred</th>\n",
       "    </tr>\n",
       "  </thead>\n",
       "  <tbody>\n",
       "    <tr>\n",
       "      <th>7277</th>\n",
       "      <td>life saviours serving excellent food worst tim...</td>\n",
       "      <td>5.0</td>\n",
       "      <td>2.007670</td>\n",
       "    </tr>\n",
       "    <tr>\n",
       "      <th>1818</th>\n",
       "      <td>value money ordered second time</td>\n",
       "      <td>5.0</td>\n",
       "      <td>2.970624</td>\n",
       "    </tr>\n",
       "    <tr>\n",
       "      <th>4771</th>\n",
       "      <td>not good</td>\n",
       "      <td>5.0</td>\n",
       "      <td>1.998553</td>\n",
       "    </tr>\n",
       "    <tr>\n",
       "      <th>16510</th>\n",
       "      <td>may not polished serving packaging etc never b...</td>\n",
       "      <td>5.0</td>\n",
       "      <td>1.894671</td>\n",
       "    </tr>\n",
       "    <tr>\n",
       "      <th>14845</th>\n",
       "      <td>oh memories place first drink bangalore almost...</td>\n",
       "      <td>5.0</td>\n",
       "      <td>2.628792</td>\n",
       "    </tr>\n",
       "    <tr>\n",
       "      <th>15201</th>\n",
       "      <td>sauce not included</td>\n",
       "      <td>4.0</td>\n",
       "      <td>1.878766</td>\n",
       "    </tr>\n",
       "    <tr>\n",
       "      <th>3165</th>\n",
       "      <td>rice quantity less</td>\n",
       "      <td>5.0</td>\n",
       "      <td>2.844196</td>\n",
       "    </tr>\n",
       "    <tr>\n",
       "      <th>16515</th>\n",
       "      <td>may not polished serving packaging etc never b...</td>\n",
       "      <td>5.0</td>\n",
       "      <td>1.894671</td>\n",
       "    </tr>\n",
       "  </tbody>\n",
       "</table>\n",
       "</div>"
      ],
      "text/plain": [
       "                                                  review  rating  rating_pred\n",
       "7277   life saviours serving excellent food worst tim...     5.0     2.007670\n",
       "1818                     value money ordered second time     5.0     2.970624\n",
       "4771                                            not good     5.0     1.998553\n",
       "16510  may not polished serving packaging etc never b...     5.0     1.894671\n",
       "14845  oh memories place first drink bangalore almost...     5.0     2.628792\n",
       "15201                                 sauce not included     4.0     1.878766\n",
       "3165                                  rice quantity less     5.0     2.844196\n",
       "16515  may not polished serving packaging etc never b...     5.0     1.894671"
      ]
     },
     "execution_count": 44,
     "metadata": {},
     "output_type": "execute_result"
    }
   ],
   "source": [
    "res_df[(res_df.rating - res_df.rating_pred)>=2]"
   ]
  }
 ],
 "metadata": {
  "kernelspec": {
   "display_name": "Python 3 (ipykernel)",
   "language": "python",
   "name": "python3"
  },
  "language_info": {
   "codemirror_mode": {
    "name": "ipython",
    "version": 3
   },
   "file_extension": ".py",
   "mimetype": "text/x-python",
   "name": "python",
   "nbconvert_exporter": "python",
   "pygments_lexer": "ipython3",
   "version": "3.9.7"
  }
 },
 "nbformat": 4,
 "nbformat_minor": 5
}
